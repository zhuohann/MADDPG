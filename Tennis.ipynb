{
 "cells": [
  {
   "cell_type": "markdown",
   "metadata": {},
   "source": [
    "# Collaboration and Competition\n",
    "\n",
    "---\n",
    "\n",
    "In this notebook, you will learn how to use the Unity ML-Agents environment for the third project of the [Deep Reinforcement Learning Nanodegree](https://www.udacity.com/course/deep-reinforcement-learning-nanodegree--nd893) program.\n",
    "\n",
    "### 1. Start the Environment\n",
    "\n",
    "We begin by importing the necessary packages.  If the code cell below returns an error, please revisit the project instructions to double-check that you have installed [Unity ML-Agents](https://github.com/Unity-Technologies/ml-agents/blob/master/docs/Installation.md) and [NumPy](http://www.numpy.org/)."
   ]
  },
  {
   "cell_type": "code",
   "execution_count": 1,
   "metadata": {},
   "outputs": [],
   "source": [
    "from unityagents import UnityEnvironment\n",
    "import numpy as np"
   ]
  },
  {
   "cell_type": "markdown",
   "metadata": {},
   "source": [
    "Next, we will start the environment!  **_Before running the code cell below_**, change the `file_name` parameter to match the location of the Unity environment that you downloaded.\n",
    "\n",
    "- **Mac**: `\"path/to/Tennis.app\"`\n",
    "- **Windows** (x86): `\"path/to/Tennis_Windows_x86/Tennis.exe\"`\n",
    "- **Windows** (x86_64): `\"path/to/Tennis_Windows_x86_64/Tennis.exe\"`\n",
    "- **Linux** (x86): `\"path/to/Tennis_Linux/Tennis.x86\"`\n",
    "- **Linux** (x86_64): `\"path/to/Tennis_Linux/Tennis.x86_64\"`\n",
    "- **Linux** (x86, headless): `\"path/to/Tennis_Linux_NoVis/Tennis.x86\"`\n",
    "- **Linux** (x86_64, headless): `\"path/to/Tennis_Linux_NoVis/Tennis.x86_64\"`\n",
    "\n",
    "For instance, if you are using a Mac, then you downloaded `Tennis.app`.  If this file is in the same folder as the notebook, then the line below should appear as follows:\n",
    "```\n",
    "env = UnityEnvironment(file_name=\"Tennis.app\")\n",
    "```"
   ]
  },
  {
   "cell_type": "code",
   "execution_count": 2,
   "metadata": {},
   "outputs": [
    {
     "name": "stderr",
     "output_type": "stream",
     "text": [
      "INFO:unityagents:\n",
      "'Academy' started successfully!\n",
      "Unity Academy name: Academy\n",
      "        Number of Brains: 1\n",
      "        Number of External Brains : 1\n",
      "        Lesson number : 0\n",
      "        Reset Parameters :\n",
      "\t\t\n",
      "Unity brain name: TennisBrain\n",
      "        Number of Visual Observations (per agent): 0\n",
      "        Vector Observation space type: continuous\n",
      "        Vector Observation space size (per agent): 8\n",
      "        Number of stacked Vector Observation: 3\n",
      "        Vector Action space type: continuous\n",
      "        Vector Action space size (per agent): 2\n",
      "        Vector Action descriptions: , \n"
     ]
    }
   ],
   "source": [
    "env = UnityEnvironment(file_name=\"Tennis_Windows_x86/Tennis.exe\")"
   ]
  },
  {
   "cell_type": "markdown",
   "metadata": {},
   "source": [
    "Environments contain **_brains_** which are responsible for deciding the actions of their associated agents. Here we check for the first brain available, and set it as the default brain we will be controlling from Python."
   ]
  },
  {
   "cell_type": "code",
   "execution_count": 3,
   "metadata": {},
   "outputs": [],
   "source": [
    "# get the default brain\n",
    "brain_name = env.brain_names[0]\n",
    "brain = env.brains[brain_name]"
   ]
  },
  {
   "cell_type": "markdown",
   "metadata": {},
   "source": [
    "### 2. Examine the State and Action Spaces\n",
    "\n",
    "In this environment, two agents control rackets to bounce a ball over a net. If an agent hits the ball over the net, it receives a reward of +0.1.  If an agent lets a ball hit the ground or hits the ball out of bounds, it receives a reward of -0.01.  Thus, the goal of each agent is to keep the ball in play.\n",
    "\n",
    "The observation space consists of 8 variables corresponding to the position and velocity of the ball and racket. Two continuous actions are available, corresponding to movement toward (or away from) the net, and jumping. \n",
    "\n",
    "Run the code cell below to print some information about the environment."
   ]
  },
  {
   "cell_type": "code",
   "execution_count": 4,
   "metadata": {},
   "outputs": [
    {
     "name": "stdout",
     "output_type": "stream",
     "text": [
      "Number of agents: 2\n",
      "Size of each action: 2\n",
      "There are 2 agents. Each observes a state with length: 24\n",
      "The state for the first agent looks like: [ 0.          0.          0.          0.          0.          0.\n",
      "  0.          0.          0.          0.          0.          0.\n",
      "  0.          0.          0.          0.         -6.65278625 -1.5\n",
      " -0.          0.          6.83172083  6.         -0.          0.        ]\n"
     ]
    }
   ],
   "source": [
    "# reset the environment\n",
    "env_info = env.reset(train_mode=True)[brain_name]\n",
    "\n",
    "# number of agents \n",
    "num_agents = len(env_info.agents)\n",
    "print('Number of agents:', num_agents)\n",
    "\n",
    "# size of each action\n",
    "action_size = brain.vector_action_space_size\n",
    "print('Size of each action:', action_size)\n",
    "\n",
    "# examine the state space \n",
    "states = env_info.vector_observations\n",
    "state_size = states.shape[1]\n",
    "print('There are {} agents. Each observes a state with length: {}'.format(states.shape[0], state_size))\n",
    "print('The state for the first agent looks like:', states[0])"
   ]
  },
  {
   "cell_type": "markdown",
   "metadata": {},
   "source": [
    "### 3. Take Random Actions in the Environment\n",
    "\n",
    "In the next code cell, you will learn how to use the Python API to control the agents and receive feedback from the environment.\n",
    "\n",
    "Once this cell is executed, you will watch the agents' performance, if they select actions at random with each time step.  A window should pop up that allows you to observe the agents.\n",
    "\n",
    "Of course, as part of the project, you'll have to change the code so that the agents are able to use their experiences to gradually choose better actions when interacting with the environment!"
   ]
  },
  {
   "cell_type": "code",
   "execution_count": 5,
   "metadata": {},
   "outputs": [
    {
     "name": "stdout",
     "output_type": "stream",
     "text": [
      "36\n",
      "Score (max over agents) from episode 0: 0.0\n",
      "15\n",
      "Score (max over agents) from episode 1: 0.0\n",
      "33\n",
      "Score (max over agents) from episode 2: 0.09000000171363354\n",
      "14\n",
      "Score (max over agents) from episode 3: 0.0\n",
      "14\n",
      "Score (max over agents) from episode 4: 0.0\n"
     ]
    }
   ],
   "source": [
    "for i in range(5):                                      # play game for 5 episodes\n",
    "    env_info = env.reset(train_mode=True)[brain_name]     # reset the environment    \n",
    "    states = env_info.vector_observations                  # get the current state (for each agent)\n",
    "    scores = np.zeros(num_agents)                          # initialize the score (for each agent)\n",
    "    step = 0\n",
    "    while True:\n",
    "        actions = np.random.randn(num_agents, action_size) # select an action (for each agent)\n",
    "        actions = np.clip(actions, -1, 1)                  # all actions between -1 and 1\n",
    "        env_info = env.step(actions)[brain_name]           # send all actions to tne environment\n",
    "        next_states = env_info.vector_observations         # get next state (for each agent)\n",
    "        rewards = env_info.rewards                         # get reward (for each agent)\n",
    "        dones = env_info.local_done                        # see if episode finished\n",
    "        scores += env_info.rewards                         # update the score (for each agent)\n",
    "        states = next_states                               # roll over states to next time step\n",
    "        step += 1\n",
    "        if np.any(dones):                                  # exit loop if episode finished\n",
    "            print(step)\n",
    "            break\n",
    "    print('Score (max over agents) from episode {}: {}'.format(i, np.max(scores)))"
   ]
  },
  {
   "cell_type": "raw",
   "metadata": {},
   "source": [
    "from ddpg_agent import Agent\n",
    "import torch\n",
    "device = 'cpu'\n",
    "actionarr = []\n",
    "agent0 = Agent(state_size, action_size, 0, random_seed=0)\n",
    "agent1 =  Agent(state_size, action_size, 1, random_seed=0)\n",
    "for i in range(1000):\n",
    "    env_info = env.reset(train_mode=True)[brain_name]\n",
    "    states = env_info.vector_observations\n",
    "    scores = np.zeros(num_agents)\n",
    "    while True:\n",
    "        actions = maddpg.act(state)\n",
    "    print('Score from episode {}: {}'.format(i, np.max(scores)))\n",
    "    #print(actionarr)"
   ]
  },
  {
   "cell_type": "code",
   "execution_count": 7,
   "metadata": {},
   "outputs": [
    {
     "name": "stdout",
     "output_type": "stream",
     "text": [
      "[array([-0.03236611,  0.0935538 ], dtype=float32), array([ 0.19367296, -0.00614072], dtype=float32)]\n",
      "[array([0.13373776, 0.27176756], dtype=float32), array([-0.09918828, -0.08457644], dtype=float32)]\n",
      "[array([-0.11300151,  0.26312262], dtype=float32), array([0.24050136, 0.2018709 ], dtype=float32)]\n",
      "[array([0.00487806, 0.12772372], dtype=float32), array([ 0.0286371, -0.0598582], dtype=float32)]\n",
      "[array([0.09455887, 0.5943183 ], dtype=float32), array([-0.34254757,  0.18530175], dtype=float32)]\n",
      "[array([-0.13743864,  0.4589889 ], dtype=float32), array([0.04931681, 0.18910065], dtype=float32)]\n",
      "[array([0.14418279, 0.70778966], dtype=float32), array([-0.20636612,  0.2572966 ], dtype=float32)]\n",
      "[array([0.50696534, 0.64175475], dtype=float32), array([-0.10184778,  0.23080023], dtype=float32)]\n",
      "[array([0.34913173, 0.5835305 ], dtype=float32), array([0.17486769, 0.18902558], dtype=float32)]\n",
      "[array([0.5082835 , 0.34023803], dtype=float32), array([0.20163652, 0.84682965], dtype=float32)]\n",
      "[array([0.41086322, 0.4898788 ], dtype=float32), array([0.02821481, 0.8908421 ], dtype=float32)]\n",
      "[array([0.33528623, 0.15588698], dtype=float32), array([-0.28362125,  0.49923027], dtype=float32)]\n",
      "[array([0.0188723, 0.0320228], dtype=float32), array([-0.02732974,  0.58019996], dtype=float32)]\n",
      "[array([-0.04507873, -0.37744933], dtype=float32), array([-0.34941977,  0.24824823], dtype=float32)]\n",
      "[array([-0.26698416, -0.24577677], dtype=float32), array([-0.2721824 ,  0.48336148], dtype=float32)]\n",
      "[array([-0.25869083, -0.44300103], dtype=float32), array([-0.3405854,  0.6902927], dtype=float32)]\n",
      "[array([-0.06356084, -0.24200624], dtype=float32), array([-0.59511477,  0.39170817], dtype=float32)]\n",
      "[array([-0.0497677 ,  0.02680488], dtype=float32), array([-0.80202144,  0.18184218], dtype=float32)]\n",
      "[array([-0.17780627,  0.51696444], dtype=float32), array([-0.2788397 ,  0.26607934], dtype=float32)]\n",
      "[array([-0.22527488,  0.375412  ], dtype=float32), array([-0.17940673,  0.03959676], dtype=float32)]\n",
      "[array([0.10057035, 0.14813624], dtype=float32), array([-0.4618032 ,  0.03578488], dtype=float32)]\n",
      "[array([ 0.02310147, -0.14141345], dtype=float32), array([-0.71378183,  0.02460916], dtype=float32)]\n",
      "[array([ 0.23152533, -0.15967481], dtype=float32), array([-0.7104491 ,  0.09612249], dtype=float32)]\n",
      "[array([0.11103247, 0.12786253], dtype=float32), array([-0.69472516, -0.11766323], dtype=float32)]\n",
      "[array([0.11369395, 0.5582454 ], dtype=float32), array([-0.55202603, -0.12748791], dtype=float32)]\n",
      "[array([0.08664843, 0.54466957], dtype=float32), array([-0.18430354, -0.05035856], dtype=float32)]\n",
      "[array([-0.15671122,  0.686768  ], dtype=float32), array([-0.2559932 , -0.03445735], dtype=float32)]\n",
      "[array([-0.22117825,  0.6282158 ], dtype=float32), array([-0.13963167,  0.09887312], dtype=float32)]\n",
      "[array([-0.129235  ,  0.11834288], dtype=float32), array([-0.2388623 , -0.31693506], dtype=float32)]\n",
      "[array([-0.2781577 , -0.14346358], dtype=float32), array([-0.05570746, -0.29253173], dtype=float32)]\n",
      "[array([-0.3781118 , -0.18578261], dtype=float32), array([-0.15967953, -0.15494381], dtype=float32)]\n",
      "[array([-0.01163746, -0.3196042 ], dtype=float32), array([-0.1544899 ,  0.03927877], dtype=float32)]\n",
      "[array([ 0.31787783, -0.13378504], dtype=float32), array([0.04002357, 0.41359264], dtype=float32)]\n",
      "[array([-0.17465618, -0.46617955], dtype=float32), array([ 0.06243948, -0.04077286], dtype=float32)]\n",
      "[array([-0.29508287, -0.46269622], dtype=float32), array([0.32231823, 0.0630019 ], dtype=float32)]\n",
      "[array([-0.12105034, -0.24648693], dtype=float32), array([0.20849402, 0.18848908], dtype=float32)]\n",
      "[array([-0.18658051, -0.13822493], dtype=float32), array([0.07123189, 0.22852235], dtype=float32)]\n",
      "[array([-0.41704863, -0.34778836], dtype=float32), array([0.3209408 , 0.38671213], dtype=float32)]\n",
      "[array([-0.49996293, -0.40145487], dtype=float32), array([0.36309168, 0.29596364], dtype=float32)]\n",
      "[array([-0.48019418, -0.3436602 ], dtype=float32), array([0.13649698, 0.31726563], dtype=float32)]\n",
      "[array([-0.6227647 , -0.24978697], dtype=float32), array([0.09140871, 0.05686885], dtype=float32)]\n",
      "[array([-0.5783744 , -0.28670982], dtype=float32), array([-0.04126636,  0.22294572], dtype=float32)]\n",
      "[array([-0.27186024, -0.2396475 ], dtype=float32), array([0.17948665, 0.09427167], dtype=float32)]\n",
      "[array([-0.42074904, -0.36291683], dtype=float32), array([ 0.27266777, -0.1504552 ], dtype=float32)]\n",
      "[array([-0.40328872,  0.18127352], dtype=float32), array([ 0.04142684, -0.21986772], dtype=float32)]\n",
      "[array([-0.21037182,  0.05025639], dtype=float32), array([-0.11461645, -0.09085718], dtype=float32)]\n",
      "[array([-0.34783506,  0.38105613], dtype=float32), array([-0.07604324, -0.09513454], dtype=float32)]\n",
      "[array([-0.21782343,  0.43689084], dtype=float32), array([-0.17182063, -0.04181113], dtype=float32)]\n",
      "[array([0.01504602, 0.34033608], dtype=float32), array([-0.4331915,  0.1346368], dtype=float32)]\n",
      "[array([-0.034694  , -0.22276732], dtype=float32), array([ 0.15278727, -0.19629863], dtype=float32)]\n",
      "[array([-0.28816578, -0.17982869], dtype=float32), array([ 0.18465263, -0.17190844], dtype=float32)]\n",
      "[array([-0.07480945, -0.62578344], dtype=float32), array([0.1141131 , 0.18788768], dtype=float32)]\n",
      "[array([-0.17671204, -0.32455567], dtype=float32), array([-0.1646291,  0.2585398], dtype=float32)]\n",
      "[array([ 0.00601305, -0.09754127], dtype=float32), array([-0.11728488,  0.22150654], dtype=float32)]\n",
      "[array([ 0.11041859, -0.16847342], dtype=float32), array([-0.02695155, -0.18641658], dtype=float32)]\n",
      "[array([0.46142554, 0.11693701], dtype=float32), array([ 0.03179339, -0.2734094 ], dtype=float32)]\n",
      "[array([ 0.39006978, -0.05522003], dtype=float32), array([-0.012205  , -0.16976675], dtype=float32)]\n",
      "[array([ 0.5165022 , -0.06468542], dtype=float32), array([ 0.23182634, -0.23106   ], dtype=float32)]\n",
      "[array([ 0.44255725, -0.30416283], dtype=float32), array([ 0.02181619, -0.4010121 ], dtype=float32)]\n",
      "[array([ 0.08344017, -0.31838298], dtype=float32), array([ 0.03818744, -0.28940445], dtype=float32)]\n",
      "[array([ 0.29961622, -0.35694253], dtype=float32), array([-0.13280009, -0.20769894], dtype=float32)]\n",
      "[array([-0.23834091, -0.17899135], dtype=float32), array([-0.24814817, -0.06673203], dtype=float32)]\n",
      "[array([-0.17640391, -0.1151199 ], dtype=float32), array([-0.25683093,  0.46999684], dtype=float32)]\n",
      "[array([-0.03005851,  0.08526974], dtype=float32), array([-0.39352235,  0.22470646], dtype=float32)]\n",
      "[array([-0.2789702 ,  0.73989046], dtype=float32), array([-0.520093  ,  0.14431377], dtype=float32)]\n",
      "[array([0.07376292, 0.56691015], dtype=float32), array([-0.77483153,  0.04934596], dtype=float32)]\n",
      "[array([0.11026141, 0.5801721 ], dtype=float32), array([-0.49368715,  0.12438362], dtype=float32)]\n",
      "[array([-0.23493828,  0.5188437 ], dtype=float32), array([-0.35393062,  0.05281091], dtype=float32)]\n",
      "[array([-0.2684744 ,  0.03724825], dtype=float32), array([-0.10875325,  0.0488292 ], dtype=float32)]\n",
      "[array([-0.26302546, -0.15538049], dtype=float32), array([-0.16156997, -0.30874774], dtype=float32)]\n",
      "[array([-0.8853867 , -0.24221984], dtype=float32), array([0.07635719, 0.1022246 ], dtype=float32)]\n",
      "[array([-0.9855239 , -0.24431723], dtype=float32), array([-0.07641622,  0.35041213], dtype=float32)]\n",
      "[array([-1.        , -0.16033685], dtype=float32), array([0.08709339, 0.39547533], dtype=float32)]\n",
      "[array([-0.79893214, -0.32112643], dtype=float32), array([0.19256534, 0.48150238], dtype=float32)]\n",
      "[array([-0.92619574,  0.05527037], dtype=float32), array([0.41511625, 0.3599369 ], dtype=float32)]\n",
      "[array([-0.8327209 , -0.05531147], dtype=float32), array([0.23762637, 0.2645051 ], dtype=float32)]\n",
      "[array([-0.95047784, -0.3624927 ], dtype=float32), array([0.39538622, 0.14758109], dtype=float32)]\n",
      "[array([-0.69714135,  0.00981428], dtype=float32), array([ 0.20847584, -0.03423043], dtype=float32)]\n",
      "[array([-0.30452213, -0.06950933], dtype=float32), array([ 0.24859694, -0.00053392], dtype=float32)]\n",
      "[array([-0.5959373 , -0.08530116], dtype=float32), array([0.26769555, 0.04271041], dtype=float32)]\n",
      "[array([-0.45597804, -0.08295678], dtype=float32), array([ 0.29822063, -0.02727666], dtype=float32)]\n",
      "[array([-0.30152786, -0.05568385], dtype=float32), array([-0.16985601, -0.15941343], dtype=float32)]\n"
     ]
    },
    {
     "name": "stdout",
     "output_type": "stream",
     "text": [
      "[array([-0.12040874, -0.12461653], dtype=float32), array([-0.30010182,  0.1503113 ], dtype=float32)]\n",
      "[array([-0.18341392,  0.23973309], dtype=float32), array([0.1770927 , 0.18865302], dtype=float32)]\n",
      "[array([0.18589503, 0.23700449], dtype=float32), array([0.24671432, 0.26643863], dtype=float32)]\n",
      "[array([0.4590381 , 0.17145336], dtype=float32), array([0.46877488, 0.21378149], dtype=float32)]\n",
      "[array([0.23418756, 0.31115195], dtype=float32), array([ 0.1160346, -0.0201789], dtype=float32)]\n",
      "[array([-0.10768832,  0.23761603], dtype=float32), array([-0.17601077, -0.42650324], dtype=float32)]\n",
      "[array([-0.02993429,  0.19534728], dtype=float32), array([-0.38067394, -0.11287855], dtype=float32)]\n",
      "[array([0.16092163, 0.6175034 ], dtype=float32), array([-0.20388821, -0.25297338], dtype=float32)]\n",
      "[array([0.0097699 , 0.42760307], dtype=float32), array([ 0.18235934, -0.07173216], dtype=float32)]\n",
      "[array([-0.00695729,  0.4142195 ], dtype=float32), array([-0.22755003, -0.12468968], dtype=float32)]\n",
      "[array([0.09250949, 0.51706374], dtype=float32), array([-0.00178391, -0.20439234], dtype=float32)]\n",
      "[array([0.18026763, 0.31701335], dtype=float32), array([-0.09107918, -0.12053776], dtype=float32)]\n",
      "[array([0.070425 , 0.7087151], dtype=float32), array([-0.55915624, -0.34563923], dtype=float32)]\n",
      "[array([-0.19699314,  0.46316627], dtype=float32), array([-0.11444497, -0.2772032 ], dtype=float32)]\n",
      "[array([0.08605708, 0.5400192 ], dtype=float32), array([-0.22202054, -0.10661384], dtype=float32)]\n",
      "[array([-0.04347044,  0.5958167 ], dtype=float32), array([-0.00841133, -0.23165572], dtype=float32)]\n",
      "[array([0.33664823, 0.44183707], dtype=float32), array([ 0.2682261 , -0.06011026], dtype=float32)]\n",
      "[array([0.53217137, 0.29345384], dtype=float32), array([0.502937  , 0.21860534], dtype=float32)]\n",
      "[array([0.5556501 , 0.49732444], dtype=float32), array([ 0.09421217, -0.12358788], dtype=float32)]\n",
      "[array([0.32585034, 0.7134375 ], dtype=float32), array([-0.10451064, -0.05237925], dtype=float32)]\n",
      "[array([0.03471982, 0.4987879 ], dtype=float32), array([-0.20059577,  0.087319  ], dtype=float32)]\n",
      "[array([-0.17558327,  0.21120247], dtype=float32), array([ 0.3363167 , -0.14002013], dtype=float32)]\n",
      "[array([0.0741912 , 0.26192707], dtype=float32), array([ 0.27638593, -0.0085985 ], dtype=float32)]\n",
      "[array([0.04772791, 0.627727  ], dtype=float32), array([ 0.45724982, -0.04141695], dtype=float32)]\n",
      "[array([-0.00578554,  0.41380063], dtype=float32), array([0.39241132, 0.14671727], dtype=float32)]\n",
      "[array([0.09437066, 0.03067063], dtype=float32), array([0.4613961 , 0.36647007], dtype=float32)]\n",
      "[array([-0.03710632,  0.3532209 ], dtype=float32), array([0.18889806, 0.3265856 ], dtype=float32)]\n",
      "[array([0.30321127, 0.17909575], dtype=float32), array([0.3114468, 0.2047836], dtype=float32)]\n",
      "[array([0.3819491 , 0.26961592], dtype=float32), array([0.3654766 , 0.07610981], dtype=float32)]\n",
      "[array([0.14098093, 0.00837234], dtype=float32), array([-0.04524774,  0.03452718], dtype=float32)]\n",
      "[array([0.00917449, 0.16240697], dtype=float32), array([-0.29871282, -0.09482825], dtype=float32)]\n",
      "[array([0.08925748, 0.35509926], dtype=float32), array([-0.30271593, -0.3478894 ], dtype=float32)]\n",
      "[array([-0.18980968,  0.22267269], dtype=float32), array([ 0.3331415 , -0.48404786], dtype=float32)]\n",
      "[array([0.13851063, 0.50347173], dtype=float32), array([ 0.80276203, -0.17251341], dtype=float32)]\n",
      "[array([0.19695213, 0.03158732], dtype=float32), array([0.82312554, 0.04706998], dtype=float32)]\n",
      "[array([ 0.10584259, -0.07918274], dtype=float32), array([ 0.6665957 , -0.18846902], dtype=float32)]\n",
      "[array([ 0.04743983, -0.01682189], dtype=float32), array([ 0.4407781 , -0.11748356], dtype=float32)]\n",
      "[array([ 0.11589783, -0.3279702 ], dtype=float32), array([0.52584016, 0.30135632], dtype=float32)]\n",
      "[array([-0.35369965, -0.28613794], dtype=float32), array([0.32823718, 0.03047196], dtype=float32)]\n",
      "[array([-0.55921817, -0.5167652 ], dtype=float32), array([ 0.24346282, -0.31463277], dtype=float32)]\n",
      "[array([-0.34663174, -0.32695916], dtype=float32), array([ 0.50390583, -0.2425102 ], dtype=float32)]\n",
      "[array([ 0.05498563, -0.16158503], dtype=float32), array([ 0.35696936, -0.19992575], dtype=float32)]\n",
      "[array([-0.24645825, -0.55857277], dtype=float32), array([ 0.00309463, -0.3643923 ], dtype=float32)]\n",
      "[array([-0.4747638 , -0.42302912], dtype=float32), array([-0.23664162,  0.17605533], dtype=float32)]\n",
      "[array([-0.26589262, -0.15595412], dtype=float32), array([0.05834388, 0.22585694], dtype=float32)]\n",
      "[array([0.06020459, 0.1716913 ], dtype=float32), array([-0.1392797 ,  0.41859198], dtype=float32)]\n",
      "[array([-0.4434857 ,  0.20344612], dtype=float32), array([-0.12040916,  0.52508926], dtype=float32)]\n",
      "[array([-0.54133356,  0.05143798], dtype=float32), array([-0.11791056,  0.31102395], dtype=float32)]\n",
      "[array([-0.49534735,  0.13083555], dtype=float32), array([-0.01910938,  0.43932968], dtype=float32)]\n",
      "[array([-0.64739   ,  0.23752196], dtype=float32), array([-0.12479518,  0.7179037 ], dtype=float32)]\n",
      "[array([-0.4736904 ,  0.17309065], dtype=float32), array([0.12601918, 0.5218737 ], dtype=float32)]\n",
      "[array([-0.44754902,  0.01581019], dtype=float32), array([-0.08043815,  0.11593081], dtype=float32)]\n",
      "[array([-0.704045  ,  0.27990893], dtype=float32), array([-0.40889025, -0.04654564], dtype=float32)]\n",
      "[array([-0.6476002 ,  0.28132117], dtype=float32), array([-0.33032158, -0.1944879 ], dtype=float32)]\n",
      "[array([-0.7622484 ,  0.05045306], dtype=float32), array([-0.40234315, -0.09271137], dtype=float32)]\n",
      "[array([-0.5713264 ,  0.02671761], dtype=float32), array([-0.09937538, -0.06196593], dtype=float32)]\n",
      "[array([-0.6381916 , -0.17623156], dtype=float32), array([ 0.028037  , -0.10820577], dtype=float32)]\n",
      "[array([-0.41346455, -0.26501513], dtype=float32), array([ 0.15513314, -0.19599083], dtype=float32)]\n",
      "[array([-0.38243392, -0.24182409], dtype=float32), array([ 0.6028917 , -0.01992244], dtype=float32)]\n",
      "[array([-0.28897062,  0.01518825], dtype=float32), array([ 0.07453638, -0.25868526], dtype=float32)]\n",
      "[array([-0.16830564,  0.19942245], dtype=float32), array([-0.07117579, -0.5508108 ], dtype=float32)]\n",
      "[array([-0.11308672,  0.37256372], dtype=float32), array([ 0.11227538, -0.28779796], dtype=float32)]\n",
      "[array([-0.52334046,  0.58178425], dtype=float32), array([ 0.23832217, -0.2885849 ], dtype=float32)]\n",
      "[array([-0.2420183 ,  0.59726137], dtype=float32), array([ 0.12296641, -0.06198151], dtype=float32)]\n",
      "[array([-0.09326352,  0.38237625], dtype=float32), array([ 0.04915151, -0.37545085], dtype=float32)]\n",
      "[array([-0.03071339,  0.2471182 ], dtype=float32), array([ 0.38339174, -0.30702028], dtype=float32)]\n",
      "[array([-0.26898915,  0.22497666], dtype=float32), array([ 0.2076784 , -0.28164688], dtype=float32)]\n",
      "[array([-0.18588726,  0.57190007], dtype=float32), array([-0.11604711, -0.05607306], dtype=float32)]\n",
      "[array([-0.5265306 ,  0.78424937], dtype=float32), array([ 0.07641064, -0.23767987], dtype=float32)]\n",
      "[array([-0.5858062,  0.5823112], dtype=float32), array([ 0.05294986, -0.3920581 ], dtype=float32)]\n",
      "[array([-0.61811674,  0.32987046], dtype=float32), array([-0.12302749, -0.17099793], dtype=float32)]\n",
      "[array([-0.56533694,  0.33706084], dtype=float32), array([0.17395276, 0.19258958], dtype=float32)]\n",
      "[array([-0.6225878,  0.0041384], dtype=float32), array([0.39455858, 0.291271  ], dtype=float32)]\n",
      "[array([-0.38056964, -0.1682811 ], dtype=float32), array([0.7029198, 0.4275318], dtype=float32)]\n",
      "[array([-0.10159546, -0.19713363], dtype=float32), array([0.54230225, 0.11371411], dtype=float32)]\n",
      "[array([-0.1119227, -0.1650022], dtype=float32), array([0.51637185, 0.02133831], dtype=float32)]\n",
      "[array([-0.04876135, -0.16938242], dtype=float32), array([ 0.4996011 , -0.22291842], dtype=float32)]\n",
      "[array([ 0.03087548, -0.09622267], dtype=float32), array([ 0.3183839 , -0.18173355], dtype=float32)]\n",
      "[array([-0.02798534, -0.02521478], dtype=float32), array([ 0.3192834 , -0.03376493], dtype=float32)]\n"
     ]
    }
   ],
   "source": [
    "from maddpg import MADDPG\n",
    "import torch\n",
    "maddpg = MADDPG(state_size, action_size, num_agents, discount_factor=0.95, tau=0.02)\n",
    "for i_episode in range(10):\n",
    "        env_info = env.reset(train_mode=False)[brain_name]\n",
    "        states = env_info.vector_observations\n",
    "        while True:\n",
    "            actions = maddpg.act(torch.tensor(states, dtype=torch.float))\n",
    "            print(actions)\n",
    "            #actions_array = torch.stack(actions).detach().numpy()\n",
    "            env_info = env.step(actions)[brain_name]\n",
    "            next_states = env_info.vector_observations\n",
    "            states = next_states\n",
    "            dones = env_info.local_done\n",
    "            if np.any(dones):\n",
    "                break\n"
   ]
  },
  {
   "cell_type": "markdown",
   "metadata": {},
   "source": [
    "#### When finished, you can close the environment."
   ]
  },
  {
   "cell_type": "code",
   "execution_count": 7,
   "metadata": {},
   "outputs": [],
   "source": [
    "env.close()"
   ]
  },
  {
   "cell_type": "markdown",
   "metadata": {},
   "source": [
    "### 4. It's Your Turn!\n",
    "\n",
    "Now it's your turn to train your own agent to solve the environment!  When training the environment, set `train_mode=True`, so that the line for resetting the environment looks like the following:\n",
    "```python\n",
    "env_info = env.reset(train_mode=True)[brain_name]\n",
    "```"
   ]
  }
 ],
 "metadata": {
  "kernelspec": {
   "display_name": "Python 3",
   "language": "python",
   "name": "python3"
  },
  "language_info": {
   "codemirror_mode": {
    "name": "ipython",
    "version": 3
   },
   "file_extension": ".py",
   "mimetype": "text/x-python",
   "name": "python",
   "nbconvert_exporter": "python",
   "pygments_lexer": "ipython3",
   "version": "3.7.3"
  }
 },
 "nbformat": 4,
 "nbformat_minor": 2
}
